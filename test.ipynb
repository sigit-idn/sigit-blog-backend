{
 "cells": [
  {
   "cell_type": "code",
   "execution_count": 7,
   "metadata": {},
   "outputs": [
    {
     "name": "stdout",
     "output_type": "stream",
     "text": [
      "True 192.168.0.0.1,192.168.0.0.3,192.168.0.0.4,192.168.0.0.5\n"
     ]
    }
   ],
   "source": [
    "import re\n",
    "ips = \"192.168.0.0.1,192.168.0.0.2,192.168.0.0.3,192.168.0.0.4,192.168.0.0.5\"\n",
    "\n",
    "ip = \"192.168.0.0.2\"\n",
    "\n",
    "removed_ips = re.sub(ip + \",*\", \"\", ips)\n",
    "\n",
    "print(ip in ips, removed_ips)"
   ]
  }
 ],
 "metadata": {
  "interpreter": {
   "hash": "aee8b7b246df8f9039afb4144a1f6fd8d2ca17a180786b69acc140d282b71a49"
  },
  "kernelspec": {
   "display_name": "Python 3.9.6 64-bit",
   "language": "python",
   "name": "python3"
  },
  "language_info": {
   "codemirror_mode": {
    "name": "ipython",
    "version": 3
   },
   "file_extension": ".py",
   "mimetype": "text/x-python",
   "name": "python",
   "nbconvert_exporter": "python",
   "pygments_lexer": "ipython3",
   "version": "3.9.6"
  },
  "orig_nbformat": 4
 },
 "nbformat": 4,
 "nbformat_minor": 2
}
